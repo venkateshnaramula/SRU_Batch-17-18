{
  "nbformat": 4,
  "nbformat_minor": 0,
  "metadata": {
    "colab": {
      "provenance": [],
      "authorship_tag": "ABX9TyPCyq1Z2epX8KPXpeEDKisy",
      "include_colab_link": true
    },
    "kernelspec": {
      "name": "python3",
      "display_name": "Python 3"
    },
    "language_info": {
      "name": "python"
    }
  },
  "cells": [
    {
      "cell_type": "markdown",
      "metadata": {
        "id": "view-in-github",
        "colab_type": "text"
      },
      "source": [
        "<a href=\"https://colab.research.google.com/github/venkateshnaramula/SRU_Batch-17-18/blob/main/Missingvalues.ipynb\" target=\"_parent\"><img src=\"https://colab.research.google.com/assets/colab-badge.svg\" alt=\"Open In Colab\"/></a>"
      ]
    },
    {
      "cell_type": "code",
      "source": [],
      "metadata": {
        "id": "SPPRly7HhkRl"
      },
      "execution_count": null,
      "outputs": []
    },
    {
      "cell_type": "markdown",
      "source": [
        "## Data Wrangling step:\n",
        "##1.Handling Missing values\n",
        "##2.Duplicates\n",
        "##3.outliers\n",
        "##4.Transformation"
      ],
      "metadata": {
        "id": "lU2DJ_rmU_ZI"
      }
    },
    {
      "cell_type": "code",
      "execution_count": 6,
      "metadata": {
        "colab": {
          "base_uri": "https://localhost:8080/"
        },
        "id": "lIqRbk3XSyu-",
        "outputId": "f7e64cb6-d1f8-4e88-ad6b-28f5fbbaa0f1"
      },
      "outputs": [
        {
          "output_type": "stream",
          "name": "stdout",
          "text": [
            "   Patientid   Age     Bp\n",
            "0          1  25.0  120.0\n",
            "1          2  30.0    NaN\n",
            "2          3   NaN  110.0\n",
            "3          4  40.0  140.0\n",
            "4          5  50.0    NaN\n"
          ]
        }
      ],
      "source": [
        "import pandas as pd\n",
        "import numpy as np\n",
        "data={'Patientid':[1,2,3,4,5],\n",
        "       'Age':[25,30,None,40 ,50],\n",
        "        'Bp':[120,None,110,140,None]}\n",
        "df=pd.DataFrame(data)\n",
        "print(df)"
      ]
    },
    {
      "cell_type": "code",
      "source": [
        "df4=df.dropna()\n",
        "print(df4)"
      ],
      "metadata": {
        "colab": {
          "base_uri": "https://localhost:8080/"
        },
        "id": "s0Zm12e0gld3",
        "outputId": "fcf859a7-3c40-4685-bc9d-06cdb4624871"
      },
      "execution_count": 30,
      "outputs": [
        {
          "output_type": "stream",
          "name": "stdout",
          "text": [
            "   Patientid   Age     Bp\n",
            "0          1  25.0  120.0\n",
            "3          4  40.0  140.0\n"
          ]
        }
      ]
    },
    {
      "cell_type": "code",
      "source": [
        "df['Age'].fillna(df['Age'].mean(),inplace=True)\n",
        "print(df)"
      ],
      "metadata": {
        "colab": {
          "base_uri": "https://localhost:8080/"
        },
        "id": "x0lvwdykVhaD",
        "outputId": "4ae6bd13-8959-4217-f576-16fc3896ba8a"
      },
      "execution_count": 11,
      "outputs": [
        {
          "output_type": "stream",
          "name": "stdout",
          "text": [
            "   Patientid    Age     Bp\n",
            "0          1  25.00  120.0\n",
            "1          2  30.00    NaN\n",
            "2          3  36.25  110.0\n",
            "3          4  40.00  140.0\n",
            "4          5  50.00    NaN\n"
          ]
        }
      ]
    },
    {
      "cell_type": "code",
      "source": [],
      "metadata": {
        "id": "rLJCAPn3W3yK"
      },
      "execution_count": null,
      "outputs": []
    },
    {
      "cell_type": "code",
      "source": [
        "df['Bp'].fillna(df['Age'].mean(),inplace=True)\n",
        "print(df)"
      ],
      "metadata": {
        "colab": {
          "base_uri": "https://localhost:8080/"
        },
        "outputId": "73f95925-a234-4ed1-fb42-a1dc5471cb69",
        "id": "WKkoSuMZW4QW"
      },
      "execution_count": 14,
      "outputs": [
        {
          "output_type": "stream",
          "name": "stdout",
          "text": [
            "   Patientid    Age      Bp\n",
            "0          1  25.00  120.00\n",
            "1          2  30.00   36.25\n",
            "2          3  36.25  110.00\n",
            "3          4  40.00  140.00\n",
            "4          5  50.00   36.25\n"
          ]
        },
        {
          "output_type": "stream",
          "name": "stderr",
          "text": [
            "/tmp/ipython-input-1474009833.py:1: FutureWarning: A value is trying to be set on a copy of a DataFrame or Series through chained assignment using an inplace method.\n",
            "The behavior will change in pandas 3.0. This inplace method will never work because the intermediate object on which we are setting values always behaves as a copy.\n",
            "\n",
            "For example, when doing 'df[col].method(value, inplace=True)', try using 'df.method({col: value}, inplace=True)' or df[col] = df[col].method(value) instead, to perform the operation inplace on the original object.\n",
            "\n",
            "\n",
            "  df['Bp'].fillna(df['Age'].mean(),inplace=True)\n"
          ]
        }
      ]
    },
    {
      "cell_type": "code",
      "source": [
        "import pandas as pd\n",
        "data = {\"BP\": [120, None, None, 125, None, 130]}\n",
        "df=pd.DataFrame(data)\n",
        "df['BP'].fillna(method='ffill', inplace=True)\n",
        "print(df)"
      ],
      "metadata": {
        "colab": {
          "base_uri": "https://localhost:8080/"
        },
        "id": "8EM7Sq88XS3d",
        "outputId": "fc821959-23f3-4ee7-ba88-7534f8c9d0b4"
      },
      "execution_count": 16,
      "outputs": [
        {
          "output_type": "stream",
          "name": "stdout",
          "text": [
            "      BP\n",
            "0  120.0\n",
            "1  120.0\n",
            "2  120.0\n",
            "3  125.0\n",
            "4  125.0\n",
            "5  130.0\n"
          ]
        },
        {
          "output_type": "stream",
          "name": "stderr",
          "text": [
            "/tmp/ipython-input-19853412.py:4: FutureWarning: A value is trying to be set on a copy of a DataFrame or Series through chained assignment using an inplace method.\n",
            "The behavior will change in pandas 3.0. This inplace method will never work because the intermediate object on which we are setting values always behaves as a copy.\n",
            "\n",
            "For example, when doing 'df[col].method(value, inplace=True)', try using 'df.method({col: value}, inplace=True)' or df[col] = df[col].method(value) instead, to perform the operation inplace on the original object.\n",
            "\n",
            "\n",
            "  df['BP'].fillna(method='ffill', inplace=True)\n",
            "/tmp/ipython-input-19853412.py:4: FutureWarning: Series.fillna with 'method' is deprecated and will raise in a future version. Use obj.ffill() or obj.bfill() instead.\n",
            "  df['BP'].fillna(method='ffill', inplace=True)\n"
          ]
        }
      ]
    },
    {
      "cell_type": "code",
      "source": [
        "import pandas as pd\n",
        "sales = pd.DataFrame({\n",
        "    'OrderID': [101, 102, 103, 101],\n",
        "    'Product': ['Mobile', 'Laptop', 'Tablet', 'Mobile'],\n",
        "    'Amount': [20000, 50000, 15000, 20000]\n",
        "})\n",
        "print(sales.duplicated())\n",
        "sales_df=sales.drop_duplicates()\n",
        "print(sales_df)"
      ],
      "metadata": {
        "colab": {
          "base_uri": "https://localhost:8080/"
        },
        "id": "7iyrEiRbZ4sJ",
        "outputId": "0306efda-2c23-4706-cd81-e2a0f26b8278"
      },
      "execution_count": 21,
      "outputs": [
        {
          "output_type": "stream",
          "name": "stdout",
          "text": [
            "0    False\n",
            "1    False\n",
            "2    False\n",
            "3     True\n",
            "dtype: bool\n",
            "   OrderID Product  Amount\n",
            "0      101  Mobile   20000\n",
            "1      102  Laptop   50000\n",
            "2      103  Tablet   15000\n"
          ]
        }
      ]
    },
    {
      "cell_type": "code",
      "source": [
        "import pandas as pd\n",
        "\n",
        "data2={'Patientid':[1,2,3,4,5,2,4],\n",
        "       'Age':[25,30,90,40 ,50,30,40],\n",
        "        'Bp':[120,130,110,140,135,130,140]}\n",
        "df2=pd.DataFrame(data2)\n",
        "print(df2)\n",
        "print(df2.duplicated())\n",
        "df3=df2.drop_duplicates()\n",
        "print(df3)\n"
      ],
      "metadata": {
        "colab": {
          "base_uri": "https://localhost:8080/"
        },
        "id": "7l3Xgam_dvu2",
        "outputId": "0eed3e03-c2c6-44d7-f8cf-5e2ec3ba465a"
      },
      "execution_count": 28,
      "outputs": [
        {
          "output_type": "stream",
          "name": "stdout",
          "text": [
            "   Patientid  Age   Bp\n",
            "0          1   25  120\n",
            "1          2   30  130\n",
            "2          3   90  110\n",
            "3          4   40  140\n",
            "4          5   50  135\n",
            "5          2   30  130\n",
            "6          4   40  140\n",
            "0    False\n",
            "1    False\n",
            "2    False\n",
            "3    False\n",
            "4    False\n",
            "5     True\n",
            "6     True\n",
            "dtype: bool\n",
            "   Patientid  Age   Bp\n",
            "0          1   25  120\n",
            "1          2   30  130\n",
            "2          3   90  110\n",
            "3          4   40  140\n",
            "4          5   50  135\n"
          ]
        }
      ]
    },
    {
      "cell_type": "code",
      "source": [
        "import matplotlib.pyplot as plt\n",
        "\n",
        "data2={'Patientid':[1,2,3,4,5,2,4],\n",
        "       'Age':[25,30,90,40 ,50,30,40],\n",
        "        'Bp':[120,130,110,140,135,130,140]}\n",
        "df2=pd.DataFrame(data2)\n",
        "\n",
        "df2.plot(x='Age', y='Bp', kind='scatter')\n",
        "plt.show()"
      ],
      "metadata": {
        "colab": {
          "base_uri": "https://localhost:8080/",
          "height": 449
        },
        "id": "Ez9omNqijg-J",
        "outputId": "8eb62036-c9aa-402c-dc76-10f9f8d8094c"
      },
      "execution_count": 36,
      "outputs": [
        {
          "output_type": "display_data",
          "data": {
            "text/plain": [
              "<Figure size 640x480 with 1 Axes>"
            ],
            "image/png": "[encoded data removed]"
          },
          "metadata": {}
        }
      ]
    },
    {
      "cell_type": "code",
      "source": [
        "df2.groupby('Patientid')['Bp'].mean().plot(kind='bar')\n",
        "plt.show()"
      ],
      "metadata": {
        "colab": {
          "base_uri": "https://localhost:8080/",
          "height": 444
        },
        "id": "jyJLXxRMlCYZ",
        "outputId": "bc71c782-6bcc-4ce0-eeb7-d04a5b772da5"
      },
      "execution_count": 37,
      "outputs": [
        {
          "output_type": "display_data",
          "data": {
            "text/plain": [
              "<Figure size 640x480 with 1 Axes>"
            ],
            "image/png": "[encoded data removed]"
          },
          "metadata": {}
        }
      ]
    },
    {
      "cell_type": "code",
      "source": [
        "df2['Age'].plot(kind='hist', bins=5, edgecolor='black')\n",
        "plt.show()"
      ],
      "metadata": {
        "colab": {
          "base_uri": "https://localhost:8080/",
          "height": 430
        },
        "id": "2qH366snlnuj",
        "outputId": "214a051f-7974-4184-fd1b-348f259b3ab4"
      },
      "execution_count": 38,
      "outputs": [
        {
          "output_type": "display_data",
          "data": {
            "text/plain": [
              "<Figure size 640x480 with 1 Axes>"
            ],
            "image/png": "[encoded data removed]"
          },
          "metadata": {}
        }
      ]
    },
    {
      "cell_type": "code",
      "source": [
        "df2[['Age','Bp']].plot(kind='box')\n",
        "plt.show()"
      ],
      "metadata": {
        "colab": {
          "base_uri": "https://localhost:8080/",
          "height": 430
        },
        "id": "98pximIqlx9l",
        "outputId": "b2520e31-d304-45ea-b7b5-0923139badec"
      },
      "execution_count": 39,
      "outputs": [
        {
          "output_type": "display_data",
          "data": {
            "text/plain": [
              "<Figure size 640x480 with 1 Axes>"
            ],
            "image/png": "[encoded data removed]"
          },
          "metadata": {}
        }
      ]
    },
    {
      "cell_type": "code",
      "source": [
        "df2['Patientid'].value_counts().plot(kind='pie', autopct='%1.1f%%')\n",
        "plt.show()"
      ],
      "metadata": {
        "colab": {
          "base_uri": "https://localhost:8080/",
          "height": 406
        },
        "id": "Zl718fbYl7Vl",
        "outputId": "c16b0404-d934-4884-dab2-980ffd1d2c9d"
      },
      "execution_count": 40,
      "outputs": [
        {
          "output_type": "display_data",
          "data": {
            "text/plain": [
              "<Figure size 640x480 with 1 Axes>"
            ],
            "image/png": "[encoded data removed]"
          },
          "metadata": {}
        }
      ]
    }
  ]
}