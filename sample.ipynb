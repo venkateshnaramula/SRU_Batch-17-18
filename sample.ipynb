{
  "nbformat": 4,
  "nbformat_minor": 0,
  "metadata": {
    "colab": {
      "provenance": [],
      "authorship_tag": "ABX9TyMapVqS1XYOF3D/ILfFoy86",
      "include_colab_link": true
    },
    "kernelspec": {
      "name": "python3",
      "display_name": "Python 3"
    },
    "language_info": {
      "name": "python"
    }
  },
  "cells": [
    {
      "cell_type": "markdown",
      "metadata": {
        "id": "view-in-github",
        "colab_type": "text"
      },
      "source": [
        "<a href=\"https://colab.research.google.com/github/venkateshnaramula/SRU_Batch-17-18/blob/main/sample.ipynb\" target=\"_parent\"><img src=\"https://colab.research.google.com/assets/colab-badge.svg\" alt=\"Open In Colab\"/></a>"
      ]
    },
    {
      "cell_type": "markdown",
      "source": [
        "# simple code on list creation"
      ],
      "metadata": {
        "id": "ZIJWmoKkU9vu"
      }
    },
    {
      "cell_type": "code",
      "execution_count": 1,
      "metadata": {
        "colab": {
          "base_uri": "https://localhost:8080/"
        },
        "id": "UkBwOqFQUzfM",
        "outputId": "db62efd6-5cc1-4381-9a94-6caaa39c17e7"
      },
      "outputs": [
        {
          "output_type": "stream",
          "name": "stdout",
          "text": [
            "List: [1, 2, 'apple', 4.5, True]\n"
          ]
        }
      ],
      "source": [
        "my_list = [1, 2, \"apple\", 4.5, True]\n",
        "print(\"List:\", my_list)"
      ]
    },
    {
      "cell_type": "code",
      "source": [
        "my_tuple = (10, \"banana\", False, 20.0)\n",
        "print(\"Tuple:\", my_tuple)"
      ],
      "metadata": {
        "colab": {
          "base_uri": "https://localhost:8080/"
        },
        "id": "jNHhH8YHVEv-",
        "outputId": "1c69f908-404b-4b8d-cb84-addcd8e188fb"
      },
      "execution_count": 2,
      "outputs": [
        {
          "output_type": "stream",
          "name": "stdout",
          "text": [
            "Tuple: (10, 'banana', False, 20.0)\n"
          ]
        }
      ]
    }
  ]
}